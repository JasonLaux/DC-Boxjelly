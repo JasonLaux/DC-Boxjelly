{
 "cells": [
  {
   "cell_type": "code",
   "execution_count": null,
   "id": "dc3ab913",
   "metadata": {},
   "outputs": [],
   "source": [
    "import pandas as pd\n",
    "import warnings \n",
    "warnings.filterwarnings('ignore')"
   ]
  },
  {
   "cell_type": "code",
   "execution_count": null,
   "id": "96127576",
   "metadata": {},
   "outputs": [],
   "source": [
    "client = r'CAL00001 Raw ClientA-Run1-Client.csv'\n",
    "lab = r'CAL00001 Raw ClientA-Run1-Lab.csv'"
   ]
  },
  {
   "cell_type": "code",
   "execution_count": null,
   "id": "dce2815d",
   "metadata": {},
   "outputs": [],
   "source": [
    "df_client = pd.read_csv(client, encoding='mac_roman')\n",
    "df_lab = pd.read_csv(lab, encoding='mac_roman')"
   ]
  },
  {
   "cell_type": "code",
   "execution_count": null,
   "id": "bf642fe4",
   "metadata": {},
   "outputs": [],
   "source": [
    "title_index = 0\n",
    "Backgrounds_num = 0\n",
    "Measurements_num = 0\n",
    "\n",
    "for i in range(len(df_client)):\n",
    "    # get where the data start\n",
    "    if 'DATA' in df_client.iloc[i].tolist()[0]:\n",
    "        title_index = i + 1\n",
    "        break\n",
    "        \n",
    "    # get the Background number\n",
    "    elif 'Backgrounds' in df_client.iloc[i].tolist()[0]:\n",
    "        Backgrounds_num = int(df_client.iloc[i].tolist()[2])\n",
    "        \n",
    "    # get the measurement number\n",
    "    elif 'Measurements' in df_client.iloc[i].tolist()[0]:\n",
    "        Measurements_num = int(df_client.iloc[i].tolist()[2])"
   ]
  },
  {
   "cell_type": "code",
   "execution_count": null,
   "id": "f0c9178e",
   "metadata": {},
   "outputs": [],
   "source": [
    "# store the title\n",
    "title = df_client.iloc[title_index].values.tolist()"
   ]
  },
  {
   "cell_type": "code",
   "execution_count": null,
   "id": "61965e9d",
   "metadata": {},
   "outputs": [],
   "source": [
    "# dataframe of the before xray data\n",
    "df_before = df_client[title_index + 1:title_index + 1 + Backgrounds_num]\n",
    "df_before.columns = title\n",
    "df_before.drop(['Comment'],axis=1,inplace=True)\n",
    "\n",
    "# change the column type to numeric\n",
    "df_before = df_before.apply(pd.to_numeric, errors='ignore')"
   ]
  },
  {
   "cell_type": "code",
   "execution_count": null,
   "id": "2db06519",
   "metadata": {},
   "outputs": [],
   "source": [
    "assert(len(df_before) == Backgrounds_num)"
   ]
  },
  {
   "cell_type": "code",
   "execution_count": null,
   "id": "14cb980d",
   "metadata": {},
   "outputs": [],
   "source": [
    "# dataframe of the beam data with open xray\n",
    "df_data = df_client[title_index + 1 + Backgrounds_num:-Backgrounds_num]\n",
    "df_data.columns = title\n",
    "df_data.drop(['Comment'],axis=1,inplace=True)\n",
    "\n",
    "# check the number of measurement for each beam\n",
    "df_size = df_data.groupby(['Filter']).size().to_frame('count')\n",
    "\n",
    "# change the column type to numeric\n",
    "df_data = df_data.apply(pd.to_numeric, errors='ignore')\n",
    "\n",
    "# get the equipment which has more than Measurements_num measurements\n",
    "duplicate_equip = list(df_size[df_size['count'] > Measurements_num].index)\n",
    "\n",
    "df_noDuplicate = df_data[~df_data.Filter.isin(duplicate_equip)]\n",
    "df_duplicate = df_data[df_data.Filter.isin(duplicate_equip)]\n",
    "df_first = df_duplicate[:90]\n",
    "df_last = df_duplicate[-90:]"
   ]
  },
  {
   "cell_type": "code",
   "execution_count": null,
   "id": "25ddf27d",
   "metadata": {},
   "outputs": [],
   "source": [
    "assert(len(df_first) + len(df_last) + len(df_noDuplicate) == len(df_data))"
   ]
  },
  {
   "cell_type": "code",
   "execution_count": null,
   "id": "4d696547",
   "metadata": {},
   "outputs": [],
   "source": [
    "# dataframe of the after xray data\n",
    "df_after = df_client[-Backgrounds_num:]\n",
    "df_after.columns = title\n",
    "df_after.drop(['Comment'],axis=1,inplace=True)\n",
    "\n",
    "# change the column type to numeric\n",
    "df_after = df_after.apply(pd.to_numeric, errors='ignore')"
   ]
  },
  {
   "cell_type": "code",
   "execution_count": null,
   "id": "3449b77c",
   "metadata": {},
   "outputs": [],
   "source": [
    "assert(len(df_after) == Backgrounds_num)"
   ]
  },
  {
   "cell_type": "code",
   "execution_count": null,
   "id": "bb78aa8e",
   "metadata": {},
   "outputs": [],
   "source": [
    "# average the data\n",
    "df_before_mean = df_before.groupby(['Filter']).agg({'mean'})\n",
    "df_noDuplicate_mean = df_noDuplicate.groupby(['Filter']).agg({'mean'})\n",
    "df_first_mean = df_first.groupby(['Filter']).agg({'mean'})\n",
    "df_last_mean = df_last.groupby(['Filter']).agg({'mean'})\n",
    "df_after_mean= df_after.groupby(['Filter']).agg({'mean'})"
   ]
  },
  {
   "cell_type": "code",
   "execution_count": null,
   "id": "3c4d2ca5",
   "metadata": {},
   "outputs": [],
   "source": []
  },
  {
   "cell_type": "code",
   "execution_count": null,
   "id": "6decdfec",
   "metadata": {},
   "outputs": [],
   "source": []
  },
  {
   "cell_type": "code",
   "execution_count": null,
   "id": "a9099ba5",
   "metadata": {},
   "outputs": [],
   "source": []
  },
  {
   "cell_type": "code",
   "execution_count": null,
   "id": "74f8287c",
   "metadata": {},
   "outputs": [],
   "source": []
  },
  {
   "cell_type": "code",
   "execution_count": null,
   "id": "b93ff45a",
   "metadata": {},
   "outputs": [],
   "source": [
    "# change the column type to numeric (other method)\n",
    "# df_data['Current1(pA)'] = pd.to_numeric(df_data['Current1(pA)'])\n",
    "# df_data['Current2(pA)'] = pd.to_numeric(df_data['Current2(pA)'])\n",
    "# df_data['P(kPa)'] = pd.to_numeric(df_data['P(kPa)'])\n",
    "# df_data['T(MC)'] = pd.to_numeric(df_data['T(MC)'])\n",
    "# df_data['T(Air)'] = pd.to_numeric(df_data['T(Air)'])\n",
    "# df_data['T(SC)'] = pd.to_numeric(df_data['T(SC)'])\n",
    "# df_data['H(%)'] = pd.to_numeric(df_data['H(%)'])"
   ]
  }
 ],
 "metadata": {
  "kernelspec": {
   "display_name": "Python 3",
   "language": "python",
   "name": "python3"
  },
  "language_info": {
   "codemirror_mode": {
    "name": "ipython",
    "version": 3
   },
   "file_extension": ".py",
   "mimetype": "text/x-python",
   "name": "python",
   "nbconvert_exporter": "python",
   "pygments_lexer": "ipython3",
   "version": "3.6.13"
  }
 },
 "nbformat": 4,
 "nbformat_minor": 5
}
