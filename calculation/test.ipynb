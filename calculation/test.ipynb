{
 "cells": [
  {
   "cell_type": "code",
   "execution_count": 1,
   "id": "dc3ab913",
   "metadata": {},
   "outputs": [],
   "source": [
    "import pandas as pd\n",
    "import warnings \n",
    "warnings.filterwarnings('ignore')"
   ]
  },
  {
   "cell_type": "code",
   "execution_count": 2,
   "id": "96127576",
   "metadata": {},
   "outputs": [],
   "source": [
    "path = r'E:\\Unimelb\\2021 S2\\Software Project\\DC\\Raw MEX measurement data 1Lab.csv'"
   ]
  },
  {
   "cell_type": "code",
   "execution_count": 3,
   "id": "dce2815d",
   "metadata": {},
   "outputs": [],
   "source": [
    "df = pd.read_csv(path, encoding='mac_roman')"
   ]
  },
  {
   "cell_type": "code",
   "execution_count": 4,
   "id": "bf642fe4",
   "metadata": {},
   "outputs": [],
   "source": [
    "title_index = 0\n",
    "Backgrounds_num = 0\n",
    "\n",
    "for i in range(len(df)):\n",
    "    # get where the data start\n",
    "    if 'DATA' in df.iloc[i].tolist()[0]:\n",
    "        title_index = i + 1\n",
    "        break\n",
    "        \n",
    "    # get the Background number\n",
    "    elif 'Backgrounds' in df.iloc[i].tolist()[0]:\n",
    "        Backgrounds_num = int(df.iloc[i].tolist()[2])"
   ]
  },
  {
   "cell_type": "code",
   "execution_count": 5,
   "id": "f0c9178e",
   "metadata": {},
   "outputs": [],
   "source": [
    "# store the title\n",
    "title = df.iloc[title_index].values.tolist()"
   ]
  },
  {
   "cell_type": "code",
   "execution_count": 6,
   "id": "61965e9d",
   "metadata": {},
   "outputs": [],
   "source": [
    "# dataframe of the before xray data\n",
    "df_before = df[title_index + 1:title_index + 1 + Backgrounds_num]\n",
    "df_before.columns = title\n",
    "df_before.drop(['Comment'],axis=1,inplace=True)"
   ]
  },
  {
   "cell_type": "code",
   "execution_count": 7,
   "id": "14cb980d",
   "metadata": {},
   "outputs": [],
   "source": [
    "# dataframe of the beam data\n",
    "df_data = df[title_index + 1 + Backgrounds_num:-Backgrounds_num]\n",
    "df_data.columns = title\n",
    "df_data.drop(['Comment'],axis=1,inplace=True)"
   ]
  },
  {
   "cell_type": "code",
   "execution_count": 8,
   "id": "4d696547",
   "metadata": {},
   "outputs": [],
   "source": [
    "# dataframe of the after xray data\n",
    "df_after = df[-Backgrounds_num:]\n",
    "df_after.columns = title\n",
    "df_after.drop(['Comment'],axis=1,inplace=True)"
   ]
  },
  {
   "cell_type": "code",
   "execution_count": 9,
   "id": "6ba4c474",
   "metadata": {},
   "outputs": [],
   "source": [
    "# change the column type to numeric\n",
    "# df_data['Current1(pA)'] = pd.to_numeric(df_data['Current1(pA)'])\n",
    "# df_data['Current2(pA)'] = pd.to_numeric(df_data['Current2(pA)'])\n",
    "# df_data['P(kPa)'] = pd.to_numeric(df_data['P(kPa)'])\n",
    "# df_data['T(MC)'] = pd.to_numeric(df_data['T(MC)'])\n",
    "# df_data['T(Air)'] = pd.to_numeric(df_data['T(Air)'])\n",
    "# df_data['T(SC)'] = pd.to_numeric(df_data['T(SC)'])\n",
    "# df_data['H(%)'] = pd.to_numeric(df_data['H(%)'])\n",
    "df_before = df_before.apply(pd.to_numeric, errors='ignore')\n",
    "df_data = df_data.apply(pd.to_numeric, errors='ignore')\n",
    "df_after = df_after.apply(pd.to_numeric, errors='ignore')"
   ]
  },
  {
   "cell_type": "code",
   "execution_count": 10,
   "id": "bb78aa8e",
   "metadata": {},
   "outputs": [],
   "source": [
    "# average the data\n",
    "df_before_mean = df_before.groupby(['Filter']).agg({'mean'})\n",
    "df_data_mean = df_data.groupby(['Filter']).agg({'mean'})\n",
    "df_after_mean= df_after.groupby(['Filter']).agg({'mean'})"
   ]
  },
  {
   "cell_type": "code",
   "execution_count": 11,
   "id": "45f9b426",
   "metadata": {},
   "outputs": [
    {
     "data": {
      "text/html": [
       "<div>\n",
       "<style scoped>\n",
       "    .dataframe tbody tr th:only-of-type {\n",
       "        vertical-align: middle;\n",
       "    }\n",
       "\n",
       "    .dataframe tbody tr th {\n",
       "        vertical-align: top;\n",
       "    }\n",
       "\n",
       "    .dataframe thead tr th {\n",
       "        text-align: left;\n",
       "    }\n",
       "\n",
       "    .dataframe thead tr:last-of-type th {\n",
       "        text-align: right;\n",
       "    }\n",
       "</style>\n",
       "<table border=\"1\" class=\"dataframe\">\n",
       "  <thead>\n",
       "    <tr>\n",
       "      <th></th>\n",
       "      <th>kV</th>\n",
       "      <th>mA</th>\n",
       "      <th>HVLFilter(mm)</th>\n",
       "      <th>N</th>\n",
       "      <th>Current1(pA)</th>\n",
       "      <th>Current2(pA)</th>\n",
       "      <th>P(kPa)</th>\n",
       "      <th>T(MC)</th>\n",
       "      <th>T(Air)</th>\n",
       "      <th>T(SC)</th>\n",
       "      <th>H(%)</th>\n",
       "    </tr>\n",
       "    <tr>\n",
       "      <th></th>\n",
       "      <th>mean</th>\n",
       "      <th>mean</th>\n",
       "      <th>mean</th>\n",
       "      <th>mean</th>\n",
       "      <th>mean</th>\n",
       "      <th>mean</th>\n",
       "      <th>mean</th>\n",
       "      <th>mean</th>\n",
       "      <th>mean</th>\n",
       "      <th>mean</th>\n",
       "      <th>mean</th>\n",
       "    </tr>\n",
       "    <tr>\n",
       "      <th>Filter</th>\n",
       "      <th></th>\n",
       "      <th></th>\n",
       "      <th></th>\n",
       "      <th></th>\n",
       "      <th></th>\n",
       "      <th></th>\n",
       "      <th></th>\n",
       "      <th></th>\n",
       "      <th></th>\n",
       "      <th></th>\n",
       "      <th></th>\n",
       "    </tr>\n",
       "  </thead>\n",
       "  <tbody>\n",
       "    <tr>\n",
       "      <th>NXJ40</th>\n",
       "      <td>40</td>\n",
       "      <td>20</td>\n",
       "      <td>0</td>\n",
       "      <td>45.5</td>\n",
       "      <td>-0.055556</td>\n",
       "      <td>-0.217778</td>\n",
       "      <td>100.8795</td>\n",
       "      <td>23.092763</td>\n",
       "      <td>23.298206</td>\n",
       "      <td>23.335394</td>\n",
       "      <td>46.147472</td>\n",
       "    </tr>\n",
       "  </tbody>\n",
       "</table>\n",
       "</div>"
      ],
      "text/plain": [
       "         kV   mA HVLFilter(mm)     N Current1(pA) Current2(pA)    P(kPa)  \\\n",
       "       mean mean          mean  mean         mean         mean      mean   \n",
       "Filter                                                                     \n",
       "NXJ40    40   20             0  45.5    -0.055556    -0.217778  100.8795   \n",
       "\n",
       "            T(MC)     T(Air)      T(SC)       H(%)  \n",
       "             mean       mean       mean       mean  \n",
       "Filter                                              \n",
       "NXJ40   23.092763  23.298206  23.335394  46.147472  "
      ]
     },
     "execution_count": 11,
     "metadata": {},
     "output_type": "execute_result"
    }
   ],
   "source": [
    "df_before_mean"
   ]
  },
  {
   "cell_type": "code",
   "execution_count": 12,
   "id": "c0fc1a45",
   "metadata": {},
   "outputs": [
    {
     "data": {
      "text/plain": [
       "Filter  XraysOn\n",
       "NXA40   TRUE       30\n",
       "NXA50   TRUE       30\n",
       "NXA60   TRUE       30\n",
       "NXA70   TRUE       30\n",
       "NXA80   TRUE       30\n",
       "NXA90   TRUE       30\n",
       "NXB100  TRUE       30\n",
       "NXB120  TRUE       30\n",
       "NXB140  TRUE       30\n",
       "NXB50   TRUE       30\n",
       "NXB70   TRUE       30\n",
       "NXC100  TRUE       30\n",
       "NXC120  TRUE       30\n",
       "NXC140  TRUE       30\n",
       "NXC150  TRUE       30\n",
       "NXC70   TRUE       30\n",
       "NXD100  TRUE       30\n",
       "NXD120  TRUE       30\n",
       "NXD140  TRUE       30\n",
       "NXD150  TRUE       30\n",
       "NXD200  TRUE       30\n",
       "NXE120  TRUE       30\n",
       "NXE140  TRUE       30\n",
       "NXE150  TRUE       30\n",
       "NXE200  TRUE       30\n",
       "NXE250  TRUE       30\n",
       "NXF140  TRUE       30\n",
       "NXF150  TRUE       30\n",
       "NXF200  TRUE       30\n",
       "NXF250  TRUE       30\n",
       "NXF280  TRUE       30\n",
       "NXG150  TRUE       30\n",
       "NXG200  TRUE       30\n",
       "NXG250  TRUE       60\n",
       "NXG280  TRUE       30\n",
       "NXG300  TRUE       30\n",
       "NXH200  TRUE       30\n",
       "NXH250  TRUE       30\n",
       "NXH280  TRUE       60\n",
       "NXH300  TRUE       60\n",
       "NXH320  TRUE       30\n",
       "NXI250  TRUE       30\n",
       "NXI280  TRUE       30\n",
       "NXI300  TRUE       30\n",
       "NXI320  TRUE       30\n",
       "NXJ100  TRUE       30\n",
       "NXJ40   TRUE       30\n",
       "NXJ50   TRUE       30\n",
       "NXJ60   TRUE       30\n",
       "NXJ70   TRUE       30\n",
       "NXJ80   TRUE       30\n",
       "NXJ90   TRUE       30\n",
       "NXK100  TRUE       30\n",
       "NXK40   TRUE       30\n",
       "NXK50   TRUE       30\n",
       "NXK60   TRUE       30\n",
       "NXK70   TRUE       30\n",
       "NXK80   TRUE       30\n",
       "NXK90   TRUE       30\n",
       "dtype: int64"
      ]
     },
     "execution_count": 12,
     "metadata": {},
     "output_type": "execute_result"
    }
   ],
   "source": [
    "# check the number of measurement for each beam\n",
    "df_data.groupby(['Filter', 'XraysOn']).size()"
   ]
  },
  {
   "cell_type": "code",
   "execution_count": null,
   "id": "6fc0afa7",
   "metadata": {},
   "outputs": [],
   "source": []
  }
 ],
 "metadata": {
  "kernelspec": {
   "display_name": "Python 3",
   "language": "python",
   "name": "python3"
  },
  "language_info": {
   "codemirror_mode": {
    "name": "ipython",
    "version": 3
   },
   "file_extension": ".py",
   "mimetype": "text/x-python",
   "name": "python",
   "nbconvert_exporter": "python",
   "pygments_lexer": "ipython3",
   "version": "3.6.13"
  }
 },
 "nbformat": 4,
 "nbformat_minor": 5
}
