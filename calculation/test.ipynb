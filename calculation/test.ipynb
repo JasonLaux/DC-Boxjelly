{
 "cells": [
  {
   "cell_type": "markdown",
   "id": "e583c850",
   "metadata": {},
   "source": [
    "# Loading module"
   ]
  },
  {
   "cell_type": "code",
   "execution_count": null,
   "id": "dc3ab913",
   "metadata": {},
   "outputs": [],
   "source": [
    "import pandas as pd\n",
    "import warnings \n",
    "warnings.filterwarnings('ignore')"
   ]
  },
  {
   "cell_type": "markdown",
   "id": "b7ade1fe",
   "metadata": {},
   "source": [
    "# Try to extract data"
   ]
  },
  {
   "cell_type": "code",
   "execution_count": null,
   "id": "96127576",
   "metadata": {},
   "outputs": [],
   "source": [
    "client_path = r'CAL00001 Raw ClientA-Run1-Client.csv'\n",
    "lab_path = r'CAL00001 Raw ClientA-Run1-Lab.csv'"
   ]
  },
  {
   "cell_type": "code",
   "execution_count": null,
   "id": "dce2815d",
   "metadata": {},
   "outputs": [],
   "source": [
    "df_client = pd.read_csv(client_path, encoding='mac_roman')\n",
    "df_lab = pd.read_csv(lab_path, encoding='mac_roman')"
   ]
  },
  {
   "cell_type": "code",
   "execution_count": null,
   "id": "bf642fe4",
   "metadata": {},
   "outputs": [],
   "source": [
    "title_index = 0\n",
    "Backgrounds_num = 0\n",
    "Measurements_num = 0\n",
    "\n",
    "for i in range(len(df_client)):\n",
    "    # get where the data start\n",
    "    if 'DATA' in df_client.iloc[i].tolist()[0]:\n",
    "        title_index = i + 1\n",
    "        break\n",
    "        \n",
    "    # get the Background number\n",
    "    elif 'Backgrounds' in df_client.iloc[i].tolist()[0]:\n",
    "        Backgrounds_num = int(df_client.iloc[i].tolist()[2])\n",
    "        \n",
    "    # get the measurement number\n",
    "    elif 'Measurements' in df_client.iloc[i].tolist()[0]:\n",
    "        Measurements_num = int(df_client.iloc[i].tolist()[2])"
   ]
  },
  {
   "cell_type": "code",
   "execution_count": null,
   "id": "f0c9178e",
   "metadata": {},
   "outputs": [],
   "source": [
    "# store the title\n",
    "title = df_client.iloc[title_index].values.tolist()"
   ]
  },
  {
   "cell_type": "code",
   "execution_count": null,
   "id": "e3609348",
   "metadata": {},
   "outputs": [],
   "source": [
    "df_total = df_client[title_index + 1:]\n",
    "df_total.columns = title\n",
    "df_total.drop(['P(kPa)', 'Comment'],axis=1,inplace=True)\n",
    "\n",
    "# change the column type to numeric\n",
    "df_total = df_total.apply(pd.to_numeric, errors='ignore')"
   ]
  },
  {
   "cell_type": "code",
   "execution_count": null,
   "id": "a6b87120",
   "metadata": {},
   "outputs": [],
   "source": [
    "# len(df_total.groupby(['Filter']).size())\n",
    "df_total.groupby(['Filter']).size()"
   ]
  },
  {
   "cell_type": "code",
   "execution_count": null,
   "id": "61965e9d",
   "metadata": {},
   "outputs": [],
   "source": [
    "# dataframe of the before xray data\n",
    "df_before = df_total[:Backgrounds_num]"
   ]
  },
  {
   "cell_type": "code",
   "execution_count": null,
   "id": "16e0d97e",
   "metadata": {},
   "outputs": [],
   "source": [
    "assert(len(df_before) == Backgrounds_num)"
   ]
  },
  {
   "cell_type": "code",
   "execution_count": null,
   "id": "14cb980d",
   "metadata": {},
   "outputs": [],
   "source": [
    "# dataframe of the beam data with open xray\n",
    "df_data = df_total[Backgrounds_num:-Backgrounds_num]\n",
    "\n",
    "# check the number of measurement for each beam\n",
    "df_size = df_data.groupby(['Filter']).size().to_frame('count')\n",
    "\n",
    "# get the equipment which has more than Measurements_num measurements\n",
    "duplicate_equip = list(df_size[df_size['count'] > Measurements_num].index)\n",
    "\n",
    "df_noDuplicate = df_data[~df_data.Filter.isin(duplicate_equip)]\n",
    "df_duplicate = df_data[df_data.Filter.isin(duplicate_equip)]\n",
    "df_first = df_duplicate[:Measurements_num*3]\n",
    "df_last = df_duplicate[-Measurements_num*3:]"
   ]
  },
  {
   "cell_type": "code",
   "execution_count": null,
   "id": "05850bb2",
   "metadata": {},
   "outputs": [],
   "source": [
    "assert(len(df_first) + len(df_last) + len(df_noDuplicate) == len(df_data))"
   ]
  },
  {
   "cell_type": "code",
   "execution_count": null,
   "id": "4d696547",
   "metadata": {},
   "outputs": [],
   "source": [
    "# dataframe of the after xray data\n",
    "df_after = df_total[-Backgrounds_num:]"
   ]
  },
  {
   "cell_type": "code",
   "execution_count": null,
   "id": "d0f48c14",
   "metadata": {},
   "outputs": [],
   "source": [
    "assert(len(df_after) == Backgrounds_num)"
   ]
  },
  {
   "cell_type": "code",
   "execution_count": null,
   "id": "bb78aa8e",
   "metadata": {},
   "outputs": [],
   "source": [
    "# average the data\n",
    "df_before_mean = df_before.groupby(['Filter']).agg({'mean'})\n",
    "df_noDuplicate_mean = df_noDuplicate.groupby(['Filter']).agg({'mean'})\n",
    "df_first_mean = df_first.groupby(['Filter']).agg({'mean'})\n",
    "df_last_mean = df_last.groupby(['Filter']).agg({'mean'})\n",
    "df_after_mean= df_after.groupby(['Filter']).agg({'mean'})"
   ]
  },
  {
   "cell_type": "markdown",
   "id": "38140d5c",
   "metadata": {},
   "source": [
    "# Formal Calculation"
   ]
  },
  {
   "cell_type": "code",
   "execution_count": null,
   "id": "a4f06d5e",
   "metadata": {},
   "outputs": [],
   "source": [
    "client_path = r'CAL00001 Raw ClientA-Run1-Client.csv'\n",
    "lab_path = r'CAL00001 Raw ClientA-Run1-Lab.csv'"
   ]
  },
  {
   "cell_type": "code",
   "execution_count": null,
   "id": "f79e47f0",
   "metadata": {},
   "outputs": [],
   "source": [
    "class Processed_data():\n",
    "    def __init__(self):\n",
    "        self.df_before_mean = None\n",
    "        self.df_mean = None\n",
    "        self.df_after_mean = None"
   ]
  },
  {
   "cell_type": "code",
   "execution_count": null,
   "id": "af69bf42",
   "metadata": {},
   "outputs": [],
   "source": [
    "def extraction(path):\n",
    "    df = pd.read_csv(path, encoding='mac_roman')\n",
    "    \n",
    "    title_index = 0\n",
    "    Backgrounds_num = 0\n",
    "    Measurements_num = 0\n",
    "\n",
    "    for i in range(len(df)):\n",
    "        # get where the data start\n",
    "        if 'DATA' in df.iloc[i].tolist()[0]:\n",
    "            title_index = i + 1\n",
    "            break\n",
    "\n",
    "        # get the Background number\n",
    "        elif 'Backgrounds' in df.iloc[i].tolist()[0]:\n",
    "            Backgrounds_num = int(df.iloc[i].tolist()[2])\n",
    "\n",
    "        # get the measurement number\n",
    "        elif 'Measurements' in df.iloc[i].tolist()[0]:\n",
    "            Measurements_num = int(df.iloc[i].tolist()[2])\n",
    "            \n",
    "    # store the title\n",
    "    title = df.iloc[title_index].values.tolist()\n",
    "    \n",
    "    # extract all data\n",
    "    df_total = df[title_index + 1:]\n",
    "    df_total.columns = title\n",
    "    df_total.drop(['kV','mA', 'HVLFilter(mm)', 'N', 'P(kPa)', 'Comment'], axis=1, inplace=True)\n",
    "\n",
    "    # change the column type to numeric\n",
    "    df_total = df_total.apply(pd.to_numeric, errors='ignore')\n",
    "    \n",
    "    \n",
    "    # dataframe of the before xray data\n",
    "    df_before = df_total[:Backgrounds_num]\n",
    "    \n",
    "    # dataframe of the beam data with open xray\n",
    "    df_data = df_total[Backgrounds_num:-Backgrounds_num]\n",
    "\n",
    "    # check the number of measurement for each beam\n",
    "    df_size = df_data.groupby(['Filter']).size().to_frame('count')\n",
    "\n",
    "    # seperate the beam which measure two times\n",
    "    duplicate_beam = list(df_size[df_size['count'] > Measurements_num].index)\n",
    "\n",
    "    df_noDuplicate = df_data[~df_data.Filter.isin(duplicate_beam)]\n",
    "    df_duplicate = df_data[df_data.Filter.isin(duplicate_beam)]\n",
    "    df_first = df_duplicate[:Measurements_num*len(duplicate_beam)]\n",
    "    df_last = df_duplicate[-Measurements_num*len(duplicate_beam):]\n",
    "    \n",
    "    # dataframe of the after xray data\n",
    "    df_after = df_total[-Backgrounds_num:]\n",
    "    \n",
    "    # average the data and store to object\n",
    "    data = Processed_data()\n",
    "    \n",
    "    # put the filter which measure two times at the last\n",
    "    data.df_mean = pd.concat([df_first.groupby(['Filter']).mean(), df_noDuplicate.groupby(['Filter']).mean(),\n",
    "                           df_last.groupby(['Filter']).mean()], axis=0)\n",
    "    \n",
    "    data.df_before_mean = df_before.groupby(['Filter']).mean()\n",
    "    data.df_after_mean= df_after.groupby(['Filter']).mean()\n",
    "    \n",
    "    # return number of duplicate_beam since kk need to know how many beams measure two times\n",
    "    return data, len(duplicate_beam)"
   ]
  },
  {
   "cell_type": "code",
   "execution_count": null,
   "id": "f186a25c",
   "metadata": {},
   "outputs": [],
   "source": [
    "# extract data\n",
    "client_data, duplicate_num = extraction(client_path)\n",
    "lab_data, _ = extraction(lab_path)"
   ]
  },
  {
   "cell_type": "code",
   "execution_count": null,
   "id": "1a6b21b8",
   "metadata": {},
   "outputs": [],
   "source": [
    "# client calculation part\n",
    "BgdIC1_Before = client_data.df_before_mean['Current1(pA)'].values[0]\n",
    "BgdMC1_Before = client_data.df_before_mean['Current2(pA)'].values[0]\n",
    "\n",
    "MC1 = (client_data.df_mean['Current1(pA)'] - BgdMC1_Before).to_frame()\n",
    "IC1 = (client_data.df_mean['Current2(pA)'] - BgdIC1_Before).to_frame()\n",
    "R1 = ((client_data.df_mean['Current1(pA)'] - BgdIC1_Before) / (client_data.df_mean['Current2(pA)'] - BgdMC1_Before)).to_frame()\n",
    "TM1 = client_data.df_mean['T(MC)'].to_frame()\n",
    "TA1 = client_data.df_mean['T(Air)'].to_frame()"
   ]
  },
  {
   "cell_type": "code",
   "execution_count": null,
   "id": "d6a50e7b",
   "metadata": {},
   "outputs": [],
   "source": [
    "# lab calculation part\n",
    "BgdIC2_Before = lab_data.df_before_mean['Current1(pA)'].values[0]\n",
    "BgdMC2_Before = lab_data.df_before_mean['Current2(pA)'].values[0]\n",
    "\n",
    "MC2 = (lab_data.df_mean['Current1(pA)'] - BgdMC2_Before).to_frame()\n",
    "IC2 = (lab_data.df_mean['Current2(pA)'] - BgdMC2_Before).to_frame()\n",
    "R2 = ((lab_data.df_mean['Current1(pA)'] - BgdIC2_Before) / (lab_data.df_mean['Current2(pA)'] - BgdMC2_Before)).to_frame()\n",
    "TM2 = lab_data.df_mean['T(MC)'].to_frame()\n",
    "TS2 = lab_data.df_mean['T(SC)'].to_frame()\n",
    "H2 = lab_data.df_mean['H(%)'].to_frame()"
   ]
  },
  {
   "cell_type": "markdown",
   "id": "28f90d26",
   "metadata": {},
   "source": [
    "# Contants part"
   ]
  },
  {
   "cell_type": "code",
   "execution_count": null,
   "id": "900123cb",
   "metadata": {},
   "outputs": [],
   "source": [
    "# read constant and KK from constant excel file\n",
    "constant = r'E:\\Unimelb\\2021 S2\\Software Project\\test\\constant\\constant.xlsx'\n",
    "df_constant = pd.read_excel(constant, sheet_name='constant')\n",
    "df_KK = pd.read_excel(constant, sheet_name='Beams', usecols=[0,9])"
   ]
  },
  {
   "cell_type": "code",
   "execution_count": null,
   "id": "eb4f3b9a",
   "metadata": {},
   "outputs": [],
   "source": [
    "# get ma and WE\n",
    "ma = df_constant['ma'].values[0]\n",
    "WE = df_constant['WE'].values[0]"
   ]
  },
  {
   "cell_type": "code",
   "execution_count": null,
   "id": "e28d43c3",
   "metadata": {},
   "outputs": [],
   "source": [
    "# reform the KK into the same order as client_data.df_mean so that it will be easy to calculate directly \n",
    "# (do not need to extract the same index to do calculation. We can just calculate on data frame).\n",
    "\n",
    "# get the filter of the first measurement from KK\n",
    "df_KK = df_KK[df_KK.Filter.isin(client_data.df_mean.index)]\n",
    "cats = client_data.df_mean.index[:-duplicate_num]\n",
    "df_KK['Filter'] = pd.CategoricalIndex(df_KK['Filter'], ordered=True, categories=cats)\n",
    "df_KK = df_KK.sort_values('Filter')\n",
    "\n",
    "# get the filter which measure two times from KK\n",
    "df_KK_dupkicate = df_KK[df_KK.Filter.isin(client_data.df_mean.index[-duplicate_num:])]\n",
    "cats = client_data.df_mean.index[-duplicate_num:]\n",
    "df_KK_dupkicate['Filter'] = pd.CategoricalIndex(df_KK_dupkicate['Filter'], ordered=True, categories=cats)\n",
    "df_KK_dupkicate = df_KK_dupkicate.sort_values('Filter')\n",
    "\n",
    "# concat together so that KK will have the same order as client_data.df_mean\n",
    "df_KK = pd.concat([df_KK,df_KK_dupkicate], axis=0).set_index('Filter')"
   ]
  },
  {
   "cell_type": "code",
   "execution_count": null,
   "id": "178154f0",
   "metadata": {},
   "outputs": [],
   "source": []
  },
  {
   "cell_type": "code",
   "execution_count": null,
   "id": "708c592c",
   "metadata": {},
   "outputs": [],
   "source": []
  },
  {
   "cell_type": "code",
   "execution_count": null,
   "id": "bec7556b",
   "metadata": {},
   "outputs": [],
   "source": []
  },
  {
   "cell_type": "code",
   "execution_count": null,
   "id": "8ff5b4be",
   "metadata": {},
   "outputs": [],
   "source": []
  },
  {
   "cell_type": "code",
   "execution_count": null,
   "id": "df635af3",
   "metadata": {},
   "outputs": [],
   "source": [
    "# change the column type to numeric (other method)\n",
    "# df_data['Current1(pA)'] = pd.to_numeric(df_data['Current1(pA)'])\n",
    "# df_data['Current2(pA)'] = pd.to_numeric(df_data['Current2(pA)'])\n",
    "# df_data['P(kPa)'] = pd.to_numeric(df_data['P(kPa)'])\n",
    "# df_data['T(MC)'] = pd.to_numeric(df_data['T(MC)'])\n",
    "# df_data['T(Air)'] = pd.to_numeric(df_data['T(Air)'])\n",
    "# df_data['T(SC)'] = pd.to_numeric(df_data['T(SC)'])\n",
    "# df_data['H(%)'] = pd.to_numeric(df_data['H(%)'])"
   ]
  }
 ],
 "metadata": {
  "kernelspec": {
   "display_name": "Python 3",
   "language": "python",
   "name": "python3"
  },
  "language_info": {
   "codemirror_mode": {
    "name": "ipython",
    "version": 3
   },
   "file_extension": ".py",
   "mimetype": "text/x-python",
   "name": "python",
   "nbconvert_exporter": "python",
   "pygments_lexer": "ipython3",
   "version": "3.6.13"
  }
 },
 "nbformat": 4,
 "nbformat_minor": 5
}
