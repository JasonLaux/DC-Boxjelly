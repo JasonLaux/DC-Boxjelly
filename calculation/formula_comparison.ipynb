{
 "cells": [
  {
   "cell_type": "code",
   "execution_count": 1,
   "id": "ebf22878",
   "metadata": {},
   "outputs": [],
   "source": [
    "import pandas as pd\n",
    "import warnings \n",
    "\n",
    "warnings.filterwarnings('ignore')"
   ]
  },
  {
   "cell_type": "code",
   "execution_count": 2,
   "id": "fd90eb05",
   "metadata": {},
   "outputs": [],
   "source": [
    "client_path = r'CAL00001 Raw ClientA-Run1-Client.csv'\n",
    "lab_path = r'CAL00001 Raw ClientA-Run1-Lab.csv'"
   ]
  },
  {
   "cell_type": "markdown",
   "id": "a08ffb56",
   "metadata": {},
   "source": [
    "# Average Later"
   ]
  },
  {
   "cell_type": "code",
   "execution_count": 3,
   "id": "740562ba",
   "metadata": {},
   "outputs": [],
   "source": [
    "def get_one(path, beam):\n",
    "    df = pd.read_csv(path, encoding='mac_roman')\n",
    "    \n",
    "    title_index = 0\n",
    "    Backgrounds_num = 0\n",
    "    Measurements_num = 0\n",
    "\n",
    "    for i in range(len(df)):\n",
    "        # get where the data start\n",
    "        if 'DATA' in df.iloc[i].tolist()[0]:\n",
    "            title_index = i + 1\n",
    "            break\n",
    "\n",
    "        # get the Background number\n",
    "        elif 'Backgrounds' in df.iloc[i].tolist()[0]:\n",
    "            Backgrounds_num = int(df.iloc[i].tolist()[2])\n",
    "\n",
    "        # get the measurement number\n",
    "        elif 'Measurements' in df.iloc[i].tolist()[0]:\n",
    "            Measurements_num = int(df.iloc[i].tolist()[2])\n",
    "        \n",
    "    # store the title\n",
    "    title = df.iloc[title_index].values.tolist()\n",
    "    \n",
    "    df_total = df[title_index + 1:]\n",
    "    df_total.columns = title\n",
    "    df_total.drop(['kV','BarCode', 'XraysOn', 'FilterReady','HVLReady', 'mA', 'HVLFilter(mm)', 'N', 'P(kPa)', 'Comment'], axis=1, inplace=True)\n",
    "\n",
    "    # change the column type to numeric\n",
    "    df_total = df_total.apply(pd.to_numeric, errors='ignore')\n",
    "    \n",
    "    # dataframe of the before xray data\n",
    "    df_before = df_total[:Backgrounds_num]\n",
    "    \n",
    "    # dataframe of the beam data with open xray\n",
    "    df_data = df_total[Backgrounds_num:-Backgrounds_num]\n",
    "    df_data = df_data[df_data.Filter.isin([beam])]\n",
    "    \n",
    "    # dataframe of the after xray data\n",
    "    df_after = df_total[-Backgrounds_num:]\n",
    "    \n",
    "    return df_before.groupby(['Filter']).mean(), df_data"
   ]
  },
  {
   "cell_type": "code",
   "execution_count": 4,
   "id": "011c58c5",
   "metadata": {},
   "outputs": [],
   "source": [
    "client_before, client_data = get_one(client_path, 'NXJ70')\n",
    "lab_before, lab_data = get_one(lab_path, 'NXJ70')"
   ]
  },
  {
   "cell_type": "code",
   "execution_count": 5,
   "id": "96cca157",
   "metadata": {},
   "outputs": [],
   "source": [
    "BgdMC1_Before = client_before['Current1(pA)'].values[0]\n",
    "BgdIC1_Before = client_before['Current2(pA)'].values[0]\n",
    "\n",
    "client_data['Current1(pA)'] = client_data['Current1(pA)'] - BgdMC1_Before\n",
    "client_data['Current2(pA)'] = client_data['Current2(pA)'] - BgdIC1_Before\n",
    "client_data['R'] = client_data['Current2(pA)'] / client_data['Current1(pA)']\n",
    "client_mean = client_data.groupby(['Filter']).mean()\n",
    "\n",
    "MC1 = client_mean['Current1(pA)'].values[0]\n",
    "IC1 = client_mean['Current2(pA)'].values[0]\n",
    "R1 = client_mean['R'].values[0]\n",
    "TM1 = client_mean['T(MC)'].values[0]\n",
    "TA1 = client_mean['T(Air)'].values[0]"
   ]
  },
  {
   "cell_type": "code",
   "execution_count": 6,
   "id": "3980c61e",
   "metadata": {},
   "outputs": [],
   "source": [
    "BgdMC2_Before = lab_before['Current1(pA)'].values[0]\n",
    "BgdIC2_Before = lab_before['Current2(pA)'].values[0]\n",
    "\n",
    "lab_data['Current1(pA)'] = lab_data['Current1(pA)'] - BgdMC2_Before\n",
    "lab_data['Current2(pA)'] = lab_data['Current2(pA)'] - BgdIC2_Before\n",
    "lab_data['R'] = lab_data['Current2(pA)'] / lab_data['Current1(pA)']\n",
    "lab_mean = lab_data.groupby(['Filter']).mean()\n",
    "\n",
    "MC2 = lab_mean['Current1(pA)'].values[0]\n",
    "IC2 = lab_mean['Current2(pA)'].values[0]\n",
    "R2 = lab_mean['R'].values[0]\n",
    "TM2 = lab_mean['T(MC)'].values[0]\n",
    "TS2 = lab_mean['T(SC)'].values[0]\n",
    "H2 = lab_mean['H(%)'].values[0]"
   ]
  },
  {
   "cell_type": "code",
   "execution_count": 7,
   "id": "59269119",
   "metadata": {},
   "outputs": [],
   "source": [
    "# read constant and KK from constant excel file\n",
    "constant = r'E:\\Unimelb\\2021 S2\\Software Project\\test\\constant\\constant.xlsx'\n",
    "df_constant = pd.read_excel(constant, sheet_name='constant')\n",
    "df_KK = pd.read_excel(constant, sheet_name='Beams', usecols=[0,9])\n",
    "\n",
    "# get ma and WE\n",
    "Ma = df_constant['ma'].values[0]\n",
    "WE = df_constant['WE'].values[0]\n",
    "kk = df_KK[df_KK.Filter.isin(['NXJ70'])]['Product'].values[0]"
   ]
  },
  {
   "cell_type": "code",
   "execution_count": 8,
   "id": "9415b665",
   "metadata": {},
   "outputs": [],
   "source": [
    "NK = R2 * WE * kk * ((273.15 + TS2) / (273.15 + TM2)) * (0.995766667 + 0.000045 * H2) / (Ma * R1 * (273.15 + TA1) / (273.15 + TM1))\n",
    "NK = NK / 1000000"
   ]
  },
  {
   "cell_type": "code",
   "execution_count": 9,
   "id": "c26c0c71",
   "metadata": {},
   "outputs": [
    {
     "data": {
      "text/plain": [
       "49.367716198545274"
      ]
     },
     "execution_count": 9,
     "metadata": {},
     "output_type": "execute_result"
    }
   ],
   "source": [
    "NK"
   ]
  },
  {
   "cell_type": "code",
   "execution_count": 10,
   "id": "bdbb8f08",
   "metadata": {},
   "outputs": [
    {
     "name": "stdout",
     "output_type": "stream",
     "text": [
      "Ma 6.179781954096993e-06\n",
      "WE 33.97\n",
      "kk 1.0217669224126713\n"
     ]
    }
   ],
   "source": [
    "print('Ma', Ma)\n",
    "print('WE', WE)\n",
    "print('kk', kk)"
   ]
  },
  {
   "cell_type": "markdown",
   "id": "49e180c8",
   "metadata": {},
   "source": [
    "# Average First"
   ]
  },
  {
   "cell_type": "code",
   "execution_count": 11,
   "id": "cf08e776",
   "metadata": {},
   "outputs": [],
   "source": [
    "client_path = r'CAL00001 Raw ClientA-Run1-Client.csv'\n",
    "lab_path = r'CAL00001 Raw ClientA-Run1-Lab.csv'"
   ]
  },
  {
   "cell_type": "code",
   "execution_count": 12,
   "id": "faaeb1f7",
   "metadata": {},
   "outputs": [],
   "source": [
    "def get_one(path, beam):\n",
    "    df = pd.read_csv(path, encoding='mac_roman')\n",
    "    \n",
    "    title_index = 0\n",
    "    Backgrounds_num = 0\n",
    "    Measurements_num = 0\n",
    "\n",
    "    for i in range(len(df)):\n",
    "        # get where the data start\n",
    "        if 'DATA' in df.iloc[i].tolist()[0]:\n",
    "            title_index = i + 1\n",
    "            break\n",
    "\n",
    "        # get the Background number\n",
    "        elif 'Backgrounds' in df.iloc[i].tolist()[0]:\n",
    "            Backgrounds_num = int(df.iloc[i].tolist()[2])\n",
    "\n",
    "        # get the measurement number\n",
    "        elif 'Measurements' in df.iloc[i].tolist()[0]:\n",
    "            Measurements_num = int(df.iloc[i].tolist()[2])\n",
    "        \n",
    "    # store the title\n",
    "    title = df.iloc[title_index].values.tolist()\n",
    "    \n",
    "    df_total = df[title_index + 1:]\n",
    "    df_total.columns = title\n",
    "    df_total.drop(['kV','BarCode', 'XraysOn', 'FilterReady','HVLReady', 'mA', 'HVLFilter(mm)', 'N', 'P(kPa)', 'Comment'], axis=1, inplace=True)\n",
    "\n",
    "    # change the column type to numeric\n",
    "    df_total = df_total.apply(pd.to_numeric, errors='ignore')\n",
    "    \n",
    "    # dataframe of the before xray data\n",
    "    df_before = df_total[:Backgrounds_num]\n",
    "    \n",
    "    # dataframe of the beam data with open xray\n",
    "    df_data = df_total[Backgrounds_num:-Backgrounds_num]\n",
    "    df_data = df_data[df_data.Filter.isin([beam])]\n",
    "    \n",
    "    # dataframe of the after xray data\n",
    "    df_after = df_total[-Backgrounds_num:]\n",
    "    \n",
    "    return df_before.groupby(['Filter']).mean(), df_data.groupby(['Filter']).mean()"
   ]
  },
  {
   "cell_type": "code",
   "execution_count": 13,
   "id": "98a6e8b1",
   "metadata": {},
   "outputs": [],
   "source": [
    "client_before, client_data = get_one(client_path, 'NXJ70')\n",
    "lab_before, lab_data = get_one(lab_path, 'NXJ70')"
   ]
  },
  {
   "cell_type": "code",
   "execution_count": 14,
   "id": "4f6d39d1",
   "metadata": {},
   "outputs": [],
   "source": [
    "# client calculation part\n",
    "BgdMC1_Before = client_before['Current1(pA)'].values[0]\n",
    "BgdIC1_Before = client_before['Current2(pA)'].values[0]\n",
    "\n",
    "MC1 = (client_data['Current1(pA)'] - BgdMC1_Before).values[0]\n",
    "IC1 = (client_data['Current2(pA)'] - BgdIC1_Before).values[0]\n",
    "R1 = ((client_data['Current2(pA)'] - BgdIC1_Before) / (client_data['Current1(pA)'] - BgdMC1_Before)).values[0]\n",
    "TM1 = client_data['T(MC)'].values[0]\n",
    "TA1 = client_data['T(Air)'].values[0]"
   ]
  },
  {
   "cell_type": "code",
   "execution_count": 15,
   "id": "98aae905",
   "metadata": {},
   "outputs": [],
   "source": [
    "# lab calculation part\n",
    "BgdMC2_Before = lab_before['Current1(pA)'].values[0]\n",
    "BgdIC2_Before = lab_before['Current2(pA)'].values[0]\n",
    "\n",
    "MC2 = (lab_data['Current1(pA)'] - BgdMC2_Before).values[0]\n",
    "IC2 = (lab_data['Current2(pA)'] - BgdIC2_Before).values[0]\n",
    "R2 = ((lab_data['Current2(pA)'] - BgdIC2_Before) / (lab_data['Current1(pA)'] - BgdMC2_Before)).values[0]\n",
    "TM2 = lab_data['T(MC)'].values[0]\n",
    "TS2 = lab_data['T(SC)'].values[0]\n",
    "H2 = lab_data['H(%)'].values[0]"
   ]
  },
  {
   "cell_type": "code",
   "execution_count": 16,
   "id": "20c7d998",
   "metadata": {},
   "outputs": [],
   "source": [
    "NK = R2 * WE * kk * ((273.15 + TS2) / (273.15 + TM2)) * (0.995766667 + 0.000045 * H2) / (Ma * R1 * (273.15 + TA1) / (273.15 + TM1))\n",
    "NK = NK / 1000000"
   ]
  },
  {
   "cell_type": "code",
   "execution_count": 17,
   "id": "9d701c2c",
   "metadata": {},
   "outputs": [
    {
     "data": {
      "text/plain": [
       "49.3677158603548"
      ]
     },
     "execution_count": 17,
     "metadata": {},
     "output_type": "execute_result"
    }
   ],
   "source": [
    "NK"
   ]
  },
  {
   "cell_type": "code",
   "execution_count": 18,
   "id": "13a82329",
   "metadata": {},
   "outputs": [
    {
     "name": "stdout",
     "output_type": "stream",
     "text": [
      "Ma 6.179781954096993e-06\n",
      "WE 33.97\n",
      "kk 1.0217669224126713\n"
     ]
    }
   ],
   "source": [
    "print('Ma', Ma)\n",
    "print('WE', WE)\n",
    "print('kk', kk)"
   ]
  },
  {
   "cell_type": "code",
   "execution_count": null,
   "id": "5f722310",
   "metadata": {},
   "outputs": [],
   "source": []
  }
 ],
 "metadata": {
  "kernelspec": {
   "display_name": "Python 3",
   "language": "python",
   "name": "python3"
  },
  "language_info": {
   "codemirror_mode": {
    "name": "ipython",
    "version": 3
   },
   "file_extension": ".py",
   "mimetype": "text/x-python",
   "name": "python",
   "nbconvert_exporter": "python",
   "pygments_lexer": "ipython3",
   "version": "3.6.13"
  }
 },
 "nbformat": 4,
 "nbformat_minor": 5
}
